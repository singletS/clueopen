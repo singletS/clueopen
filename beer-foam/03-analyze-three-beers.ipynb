{
 "cells": [
  {
   "cell_type": "markdown",
   "metadata": {},
   "source": [
    "# Problem statement\n",
    "\n"
   ]
  },
  {
   "cell_type": "markdown",
   "metadata": {},
   "source": [
    "Can different beers be distinguished by their foam dynamics? Support your answer by fitting the data from three different beers to obtain kinetics (rate) parameters with associated errors.\n",
    "\n"
   ]
  },
  {
   "cell_type": "markdown",
   "metadata": {},
   "source": [
    "## Data and submission\n",
    "\n"
   ]
  },
  {
   "cell_type": "markdown",
   "metadata": {},
   "source": [
    "Use the data from the file <tt>beer\\_foam-3beers.dat</tt> . Create a new jupyter notebook in this directory with a sensible name. (See &ldquo;Guide for Submitting Assignments&rdquo; in the Resources block of moodle if unsure about file naming.)\n",
    "\n"
   ]
  },
  {
   "cell_type": "markdown",
   "metadata": {},
   "source": [
    "## Format and Evaluation\n",
    "\n"
   ]
  },
  {
   "cell_type": "markdown",
   "metadata": {},
   "source": [
    "The response should be in the form of a *computational narrative* that is organized as a journal article (introduction, method, result, conclusion). Where appropriate, take advantage of Jupyter&rsquo;s features for writing equations, plotting, citations, etc. The work will be evaluated using the Six Point Scoring Guide available on moodle.\n",
    "\n"
   ]
  },
  {
   "cell_type": "markdown",
   "metadata": {},
   "source": [
    "## Tips for success\n",
    "\n"
   ]
  },
  {
   "cell_type": "markdown",
   "metadata": {},
   "source": [
    "-   Write an outline early (maybe first). Working through an outline will allow you to focus on different cognitive tasks (organizing, problem solving, computing, writing, editing).\n",
    "-   Clearly state the goal and the plan for meeting the goal.\n",
    "-   Briefly summarize the theoretical underpinnings of the methods being employed.\n",
    "-   The final submission is a writing assignment as much as it is a computing assignment.  Think about organization, audience, content development, mechanics, etc., just like you would for a writing assignment from a different genre.\n",
    "-   Use &ldquo;professional&rdquo; styles for language, graphics, and equations.  If unfamiliar with these, please don&rsquo;t guess&#x2014;consult a style guide or a skilled writer.\n",
    "-   Do a &ldquo;Restart kernel and run all&rdquo; just before submitting.  This will catch sequencing errors.\n",
    "-   Use features of the tool (citations can be inline links, images, LaTeX equations, etc.)\n",
    "-   Review the scoring guide so you&rsquo;re familiar with how the work will be evaluated.\n",
    "\n",
    "Contact me if you have questions.\n",
    "\n"
   ]
  }
 ],
 "metadata": {
  "kernelspec": {
   "display_name": "Python 3 (ipykernel)",
   "language": "python",
   "name": "python3"
  },
  "language_info": {
   "codemirror_mode": {
    "name": "ipython",
    "version": 3
   },
   "file_extension": ".py",
   "mimetype": "text/x-python",
   "name": "python",
   "nbconvert_exporter": "python",
   "pygments_lexer": "ipython3",
   "version": "3.9.7"
  },
  "org": null
 },
 "nbformat": 4,
 "nbformat_minor": 4
}
