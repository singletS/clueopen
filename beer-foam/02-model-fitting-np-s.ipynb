{
 "cells": [
  {
   "cell_type": "markdown",
   "metadata": {
    "tags": []
   },
   "source": [
    "# Building a kinetic model Part 2: Can foam dynamics be used to distinguish brands?\n",
    "\n",
    "<center>\n",
    "<img src=\"beers.png\" width=\"70%\">\n",
    "    <br />Figure 1: <a href=\"https://en.wikipedia.org/wiki/Beer_head\">Beers with head foam</a></center>\n"
   ]
  },
  {
   "cell_type": "markdown",
   "metadata": {},
   "source": [
    "(This activity follows Part 1: Importing and Visualizing)\n",
    "\n",
    "In this activity, we will fit a kinetic model to experimental data. Subsequently, the model may be used to distinguish beer brands based on the kinetics of their foams.\n",
    "\n"
   ]
  },
  {
   "cell_type": "markdown",
   "metadata": {},
   "source": [
    "### Concept objectives\n",
    "\n"
   ]
  },
  {
   "cell_type": "markdown",
   "metadata": {},
   "source": [
    "After completing this task you should be able to \n",
    "\n",
    "-   determine the kinetic parameters of a process (order, rate constant)\n",
    "-   assess the quality of a fit using error estimates and residuals\n",
    "\n"
   ]
  },
  {
   "cell_type": "markdown",
   "metadata": {},
   "source": [
    "### Python Objectives\n",
    "\n"
   ]
  },
  {
   "cell_type": "markdown",
   "metadata": {},
   "source": [
    "-   use `curve_fit()` to fit data to an arbitrary function\n",
    "-   create plots using matplotlib\n",
    "-   use curve fitting and error estimates to distinguish data samples\n",
    "\n"
   ]
  },
  {
   "cell_type": "markdown",
   "metadata": {},
   "source": [
    "### Prerequisites\n",
    "\n"
   ]
  },
  {
   "cell_type": "markdown",
   "metadata": {},
   "source": [
    "Before attempting this activity, users should be familiar with\n",
    "\n",
    "-   integrated rate laws for zero, first, and second order reactions; identifying reaction orders graphically\n",
    "-   least squares fitting (not necessarily in python)\n",
    "-   importing formatted data and manipulating numpy arrays\n",
    "\n",
    "This notebook assumes the data file is in the same directory as the Jupyter notebook.\n",
    "\n"
   ]
  },
  {
   "cell_type": "markdown",
   "metadata": {},
   "source": [
    "## Python environment\n",
    "\n"
   ]
  },
  {
   "cell_type": "code",
   "execution_count": 1,
   "metadata": {},
   "outputs": [],
   "source": [
    "import matplotlib.pyplot as plt\n",
    "%matplotlib inline\n",
    "import numpy as np\n",
    "from scipy.optimize import curve_fit"
   ]
  },
  {
   "cell_type": "markdown",
   "metadata": {},
   "source": [
    "## Information: Integrated rate laws\n",
    "\n"
   ]
  },
  {
   "cell_type": "markdown",
   "metadata": {},
   "source": [
    "First order reactions follow the first order integrated rate law\n",
    "\n",
    "$$ [A] = [A_0] e^{-kt} $$\n",
    "\n",
    "Some second order reactions follow the integrated rate law\n",
    "\n",
    "$$\\frac{1}{[A]} = \\frac{1}{[A_0]} + kt$$\n",
    "\n",
    "**Critical Thinking Questions**\n",
    "\n"
   ]
  },
  {
   "cell_type": "markdown",
   "metadata": {},
   "source": [
    "**CTQ 1**\n",
    "Recall the beer foam data are units of time and height. Assuming first-order, write the exponential form of integrated rate law for the process being studied. Give the units for each term in the equation.\n",
    "\n"
   ]
  },
  {
   "cell_type": "code",
   "execution_count": 1,
   "metadata": {},
   "outputs": [],
   "source": []
  },
  {
   "cell_type": "markdown",
   "metadata": {},
   "source": [
    "**CTQ 2**\n",
    "Write the general first-order and second-order rate laws in their *linearized* forms; i.e., what function for each order will give a straight line as a function of time?\n",
    "\n"
   ]
  },
  {
   "cell_type": "code",
   "execution_count": 1,
   "metadata": {},
   "outputs": [],
   "source": []
  },
  {
   "cell_type": "markdown",
   "metadata": {},
   "source": [
    "**CTQ 3**\n",
    "As a group, sketch a plot of the wet foam height vs time that would show a linear relationship if is a first-order process. Show where H<sub>0</sub> (initial height), and k (rate constant) are on the plot.\n",
    "\n"
   ]
  },
  {
   "cell_type": "code",
   "execution_count": 1,
   "metadata": {},
   "outputs": [],
   "source": []
  },
  {
   "cell_type": "markdown",
   "metadata": {},
   "source": [
    "## Import and visualize the data\n",
    "\n"
   ]
  },
  {
   "cell_type": "markdown",
   "metadata": {},
   "source": [
    "Use `np.genfromtxt()` to import the data file into np arrays.\n",
    "\n"
   ]
  },
  {
   "cell_type": "code",
   "execution_count": 1,
   "metadata": {},
   "outputs": [
    {
     "name": "stdout",
     "output_type": "stream",
     "text": [
      "time = [  0.  15.  30.  45.  60.  90. 120. 150. 180. 210. 240. 270. 300.]\n",
      "foam = [17.4  15.1  13.1  11.6  10.6   8.7   7.4   6.35  5.4   4.5   3.8   3.3\n",
      "  2.9 ]\n",
      "beer = [0.6  2.2  3.4  4.15 4.5  5.1  5.5  5.8  5.9  6.15 6.25 6.26 6.3 ]"
     ]
    }
   ],
   "source": [
    "time, foam, beer = np.genfromtxt(\"beer_foam.dat\", delimiter=\"\", skip_header=0, unpack=True)\n",
    "print(\"time =\", time)\n",
    "print(\"foam =\", foam)\n",
    "print(\"beer =\", beer)"
   ]
  },
  {
   "cell_type": "markdown",
   "metadata": {},
   "source": [
    "**Exercise 1**\n",
    "Create a plot of beer foam height with labeled axes.\n",
    "\n"
   ]
  },
  {
   "cell_type": "code",
   "execution_count": 1,
   "metadata": {},
   "outputs": [],
   "source": []
  },
  {
   "cell_type": "markdown",
   "metadata": {},
   "source": [
    "**Exercise 2**\n",
    "Determine the order of the wet foam process using graphical analysis. (This was done in Part I; try to recreate the work without peeking :)\n",
    "\n"
   ]
  },
  {
   "cell_type": "code",
   "execution_count": 1,
   "metadata": {},
   "outputs": [],
   "source": []
  },
  {
   "cell_type": "markdown",
   "metadata": {},
   "source": [
    "## Using curve_fit() to fit data to a model function\n",
    "\n"
   ]
  },
  {
   "cell_type": "markdown",
   "metadata": {},
   "source": [
    "There are many modules and function in the python ecosystem for fitting data. In this activity, we use `curve_fit()` from the `scipy.optimize` module. Note that this function is imported in the **Python environment** section above.\n",
    "\n",
    "Review the function signature and the examples at [scipy.optimize.curve\\_fit](https://docs.scipy.org/doc/scipy/reference/generated/scipy.optimize.curve_fit.html) to learn what&rsquo;s happening here. (The documentation may seem cryptic at first, but you&rsquo;ll get there!)\n",
    "\n",
    "`curve_fit()` finds the best-fit parameters by minimizing the sum of squares deviation between the data and the model function. You may have heard this called [least squares regression](https://en.wikipedia.org/wiki/Least_squares).\n",
    "\n",
    "First, a model function (with the parameters) must be defined.\n",
    "\n"
   ]
  },
  {
   "cell_type": "markdown",
   "metadata": {},
   "source": [
    "**Exercise 3**\n",
    "Finish this code block so the function \\`linmod()\\` (linear model) returns the y-values for a straight line.\n",
    "\n"
   ]
  },
  {
   "cell_type": "code",
   "execution_count": 1,
   "metadata": {},
   "outputs": [],
   "source": [
    "def linmod(x, m, b):\n",
    "    return"
   ]
  },
  {
   "cell_type": "markdown",
   "metadata": {},
   "source": [
    "**CTQ 4**\n",
    "Which parameters (arguments) will be optimized in `linmod()`? Which parameters are &ldquo;fixed&rdquo;?\n",
    "\n"
   ]
  },
  {
   "cell_type": "code",
   "execution_count": 1,
   "metadata": {},
   "outputs": [],
   "source": []
  },
  {
   "cell_type": "markdown",
   "metadata": {},
   "source": [
    "    \n",
    "\n",
    "If the reaction is first-order, we linearize the data by taking the natural log of the dependent variable and call \\`curve\\_fit()\\` with the experimental data.  Documentation for curve\\_fit() shows that it returns the optimized parameters and the covariance matrix.  We will call these poptlm and pcovlm for the linear model.\n",
    "\n"
   ]
  },
  {
   "cell_type": "markdown",
   "metadata": {},
   "source": [
    "**Exercise 4**\n",
    "Add a print statement that reports the names and values of the optimized parameters.\n",
    "\n"
   ]
  },
  {
   "cell_type": "code",
   "execution_count": 1,
   "metadata": {},
   "outputs": [],
   "source": [
    "lnfoam = np.log(foam)\n",
    "poptlm, pcovlm = curve_fit(linmod, time, lnfoam)"
   ]
  },
  {
   "cell_type": "markdown",
   "metadata": {},
   "source": [
    "**Exercise 5**\n",
    "Using the results of the fit, have python print the name and values of the rate constant and the starting height with units.\n",
    "\n"
   ]
  },
  {
   "cell_type": "code",
   "execution_count": 1,
   "metadata": {},
   "outputs": [],
   "source": []
  },
  {
   "cell_type": "markdown",
   "metadata": {},
   "source": [
    "**Exercise 6**\n",
    "Using the results of the fit, create a plot showing the experimental data as symbols and the best fit line.\n",
    "\n"
   ]
  },
  {
   "cell_type": "code",
   "execution_count": 1,
   "metadata": {},
   "outputs": [],
   "source": []
  },
  {
   "cell_type": "markdown",
   "metadata": {},
   "source": [
    "## Evaluating the quality of fit\n",
    "\n"
   ]
  },
  {
   "cell_type": "markdown",
   "metadata": {},
   "source": [
    "### Estimated error from the covariance matrix\n",
    "\n"
   ]
  },
  {
   "cell_type": "markdown",
   "metadata": {},
   "source": [
    "Assess the quality of the fit using the estimated errors in the parameters, e.g., $m \\pm \\delta m$. The errors are obtained from the square root of the diagonal elements of the <tt>pcovlm</tt> matrix.  In general, the main diagonal of a simple matrix\n",
    "\n",
    "\\begin{bmatrix}a & b \\\\c & d\\end{bmatrix} \n",
    "\n",
    "is $a \\times d$ (the product of the diagonal elements). Diagonals are commonly needed, and `np.diag()` will provide them.\n",
    "\n"
   ]
  },
  {
   "cell_type": "code",
   "execution_count": 1,
   "metadata": {},
   "outputs": [
    {
     "name": "stdout",
     "output_type": "stream",
     "text": [
      "slope = -0.0058 ± 0.0001; intercept = 2.75 ± 0.02"
     ]
    }
   ],
   "source": [
    "dm, db = np.sqrt(np.diag(pcovlm))\n",
    "print(f\"slope = {m:.4f} ± {dm:.4f}; intercept = {b:.2f} ± {db:.2f}\")"
   ]
  },
  {
   "cell_type": "markdown",
   "metadata": {},
   "source": [
    "### Residuals, residual plots, and RSS (SSE)\n",
    "\n"
   ]
  },
  {
   "cell_type": "markdown",
   "metadata": {},
   "source": [
    "A [residual plot](https://www.statisticshowto.datasciencecentral.com/residual-plot/) can be used to assess the fit quality. Residuals are defined by\n",
    "\n",
    "$$ R = y_i - f(x_i) $$\n",
    "\n"
   ]
  },
  {
   "cell_type": "markdown",
   "metadata": {},
   "source": [
    "**CTQ 5**\n",
    " What are the terms $y_i$ and $f(x_i)$ in the residual?  How many residuals will there be for this data set?\n",
    "\n"
   ]
  },
  {
   "cell_type": "code",
   "execution_count": 1,
   "metadata": {},
   "outputs": [],
   "source": []
  },
  {
   "cell_type": "markdown",
   "metadata": {},
   "source": [
    "**Exercise 7**\n",
    "In a model with a single explanatory variable, the [residual sum of squares](https://en.wikipedia.org/wiki/Residual_sum_of_squares) RSS (sometimes called sum of squared errors, SSE)is given by: \n",
    "\n",
    "$$ RSS =  \\sum_i \\left (y_i - f(x_i) \\right)^2$$\n",
    "\n",
    "Calculate the RSS for the foam data.\n",
    "\n"
   ]
  },
  {
   "cell_type": "code",
   "execution_count": 1,
   "metadata": {},
   "outputs": [],
   "source": []
  },
  {
   "cell_type": "markdown",
   "metadata": {},
   "source": [
    "**Exercise 8**\n",
    "Create a residual plot (time vs residual) for the data.  Does a linear model fit the experimental data? If not, what adjustments could be made to the fitting analysis that might improve the fit?\n",
    "\n"
   ]
  },
  {
   "cell_type": "code",
   "execution_count": 1,
   "metadata": {},
   "outputs": [],
   "source": []
  },
  {
   "cell_type": "markdown",
   "metadata": {},
   "source": [
    "## Summary and Reflection\n",
    "\n"
   ]
  },
  {
   "cell_type": "markdown",
   "metadata": {},
   "source": [
    "Briefly (a paragraph or two) summarize the process you used to fit experimental data to a model function. In the summary, report the rate law with the optimized kinetic parameters (H<sub>0</sub> and k) with and their estimated errors.\n",
    "\n"
   ]
  },
  {
   "cell_type": "code",
   "execution_count": 1,
   "metadata": {},
   "outputs": [],
   "source": []
  },
  {
   "cell_type": "markdown",
   "metadata": {},
   "source": [
    "Your responses here can help improve the activity! Please read both carefully so you&rsquo;re responding to either python or chemistry concepts. Thanks.\n",
    "\n",
    "In a markdown cell, please answer these prompts as they relate to learning *python*.\n",
    "\n",
    "-   What is a useful thing you accomplished or learned?\n",
    "-   What did you find interesting or surprising?\n",
    "-   What did you find confusing?\n",
    "\n"
   ]
  },
  {
   "cell_type": "code",
   "execution_count": 1,
   "metadata": {},
   "outputs": [],
   "source": []
  },
  {
   "cell_type": "markdown",
   "metadata": {},
   "source": [
    "In a markdown cell, please answer these prompts  as they relate to learning *chemistry*.\n",
    "\n",
    "-   What is a useful thing you accomplished or learned?\n",
    "-   What did you find interesting or surprising?\n",
    "-   What did you find confusing?\n",
    "\n"
   ]
  },
  {
   "cell_type": "code",
   "execution_count": 1,
   "metadata": {},
   "outputs": [],
   "source": []
  },
  {
   "cell_type": "markdown",
   "metadata": {},
   "source": [
    "## Extension exercises\n",
    "\n"
   ]
  },
  {
   "cell_type": "markdown",
   "metadata": {},
   "source": [
    "### curve_fit without linearizing\n",
    "\n"
   ]
  },
  {
   "cell_type": "markdown",
   "metadata": {},
   "source": [
    "A powerful feature of `curve_fit()` is that it can fit non-linear functions like $Ae^{x}$.\n",
    "\n"
   ]
  },
  {
   "cell_type": "markdown",
   "metadata": {},
   "source": [
    "**Exercise 9**\n",
    "Given the first order reaction $A \\stackrel{k}{\\longrightarrow} P$ write a function `func1` that returns the the amount of A. Use the provided function *signature* (name and arguments).\n",
    "\n"
   ]
  },
  {
   "cell_type": "code",
   "execution_count": 1,
   "metadata": {},
   "outputs": [],
   "source": [
    "def func1(t, A0, k):\n",
    "    \"\"\"Compute amount of A at time t for a first-order reaction.\n",
    "\n",
    "    Args:\n",
    "        t : time (sec)\n",
    "    \t  A0 : initial value\n",
    "        k : first order rate constant (s^-1)\n",
    "    \"\"\"\n",
    "    # insert your code here; remember the function must have a return statement"
   ]
  },
  {
   "cell_type": "markdown",
   "metadata": {},
   "source": [
    "### Fit to 2nd order integrated rate law\n",
    "\n"
   ]
  },
  {
   "cell_type": "markdown",
   "metadata": {},
   "source": [
    "**Exercise 10**\n",
    "Repeat the fitting procedure using second order kinetic function\n",
    "$$ \\frac{1}{A} = \\frac{1}{A_0} + kt $$\n",
    "\n"
   ]
  }
 ],
 "metadata": {
  "kernelspec": {
   "display_name": "Python 3 (ipykernel)",
   "language": "python",
   "name": "python3"
  },
  "language_info": {
   "codemirror_mode": {
    "name": "ipython",
    "version": 3
   },
   "file_extension": ".py",
   "mimetype": "text/x-python",
   "name": "python",
   "nbconvert_exporter": "python",
   "pygments_lexer": "ipython3",
   "version": "3.9.7"
  },
  "org": null
 },
 "nbformat": 4,
 "nbformat_minor": 4
}
