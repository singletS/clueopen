{
 "cells": [
  {
   "cell_type": "markdown",
   "metadata": {
    "slideshow": {
     "slide_type": "slide"
    }
   },
   "source": [
    "# Solving Common Introductory Quantum Mechanics Problems using Sympy\n",
    "\n",
    "Adapted from work of E. Harvey [JCE Symmath](http://www.chemeddl.org/alfresco/service/org/chemeddl/symmath/frameset?guest=true) (accessed 2019-09).\n",
    "\n",
    "\n",
    "This notebook show basic examples for quantum calculations encountered in undergraduate physical chemistry course. The purpose of this notebook is not to explain the theory behind the calculations, bur rather show how python can be used for solving typical problems.\n",
    "\n",
    "This notebook assumes [sympy](http://sympy.org) is available and some familiarity with python lists and functions. The [sympy tutorial](http://docs.sympy.org/latest/tutorial/index.html) describes all of the functions used in the notebook."
   ]
  },
  {
   "cell_type": "markdown",
   "metadata": {
    "slideshow": {
     "slide_type": "slide"
    }
   },
   "source": [
    "## Objectives\n",
    "\n",
    "After completing this work you should be able to use python and sympy to\n",
    "1. calculate a normalization constant\n",
    "2. calculate an expectation value and its variance\n",
    "2. determine whether a function is an eigenvalue of an operator\n",
    "3. determine if functions are orthogonal"
   ]
  },
  {
   "cell_type": "markdown",
   "metadata": {
    "slideshow": {
     "slide_type": "subslide"
    }
   },
   "source": [
    "## Prerequisites\n",
    "- basic knowledge of python and sympy\n",
    "- the python [SciPy](http://www.scipy.org) stack\n",
    "- the python [sympy](http://www.sympy.org) symbolic computation library\n",
    "- basic understanding of eigenfuctions, normalization, orthogonality, and expectation values\n",
    "\n",
    "## Python environment\n",
    "First, import libaries and initialize sympy's 'pretty' printing."
   ]
  },
  {
   "cell_type": "code",
   "execution_count": 1,
   "metadata": {},
   "outputs": [],
   "source": [
    "# import and initialize libraries\n",
    "import matplotlib.pyplot as plt\n",
    "%matplotlib inline\n",
    "import numpy as np\n",
    "from sympy import *\n",
    "\n",
    "# uncomment one of these and comment the other\n",
    "init_printing() # jupyter, cocalc\n",
    "#init_printing(use_latex=False) # colaboratory"
   ]
  },
  {
   "cell_type": "markdown",
   "metadata": {},
   "source": [
    "## General properties of wavefunctions\n",
    "\n",
    "Remind yourself of some key properties of wavefunctions. These properties (sometimes call Born's conditions) are generally found in a discussion on the postulates of quantum mechanics.  "
   ]
  },
  {
   "cell_type": "markdown",
   "metadata": {},
   "source": [
    "### Your Turn\n",
    "List as many properties of wavefunctions as you can and give a brief summary of the meaning of the property (one is given as an example)"
   ]
  },
  {
   "cell_type": "markdown",
   "metadata": {},
   "source": [
    "(double click this cell to add answers...)\n",
    "\n",
    "1. A wavefunction must be single-valued. This means that $\\psi(x)$ must have a unique value for any value of x. \n",
    "\n",
    "2.  \n",
    "\n",
    "3.  \n",
    "\n",
    "4.  "
   ]
  },
  {
   "cell_type": "markdown",
   "metadata": {},
   "source": [
    "## Normalizing functions\n",
    "One of the postulates of quantum mechanics states we can calculate the probability of finding an electron in space if the wavefunction is known. The *normalization condition* must be satisfied:\n",
    "$$ \\int_{0}^a \\psi(x)^* \\psi(x)\\; dx = 1 $$"
   ]
  },
  {
   "cell_type": "markdown",
   "metadata": {},
   "source": [
    "We start with a simple function representing the wavefunction of a particle\n",
    "\n",
    "$$ f(x) = N_0 e^{-ax^2/2} $$\n",
    "\n",
    "where $N_0$ and $a_0$ are constants.\n",
    "\n",
    "Start by identifying the variables in the function. We also include sensible assumptions about certain variables if they are known. This is not necessary, but allows us to disregard physically impossible results (and speed up some computations)."
   ]
  },
  {
   "cell_type": "code",
   "execution_count": 2,
   "metadata": {},
   "outputs": [
    {
     "data": {
      "image/png": "[encoded data removed]",
      "text/latex": [
       "$\\displaystyle e^{- \\frac{a x^{2}}{2}}$"
      ],
      "text/plain": [
       "     2 \n",
       " -a⋅x  \n",
       " ──────\n",
       "   2   \n",
       "ℯ      "
      ]
     },
     "execution_count": 2,
     "metadata": {},
     "output_type": "execute_result"
    }
   ],
   "source": [
    "a, x, N0 = symbols('a x N0', positive=True)\n",
    "\n",
    "f = E**(-a * x**2 / 2)\n",
    "f"
   ]
  },
  {
   "cell_type": "markdown",
   "metadata": {},
   "source": [
    "Define a wavefunction $\\psi(x)$ using `f` and a normalization constant."
   ]
  },
  {
   "cell_type": "code",
   "execution_count": 3,
   "metadata": {},
   "outputs": [
    {
     "data": {
      "image/png": "[encoded data removed]",
      "text/latex": [
       "$\\displaystyle N_{0} e^{- \\frac{a x^{2}}{2}}$"
      ],
      "text/plain": [
       "        2 \n",
       "    -a⋅x  \n",
       "    ──────\n",
       "      2   \n",
       "N₀⋅ℯ      "
      ]
     },
     "execution_count": 3,
     "metadata": {},
     "output_type": "execute_result"
    }
   ],
   "source": [
    "psi = N0 * f\n",
    "psi"
   ]
  },
  {
   "cell_type": "markdown",
   "metadata": {},
   "source": [
    "sympy's `conjugate()` gives the complex conjugate. Because `psi(x)` is real, its complex conjugate is the same function."
   ]
  },
  {
   "cell_type": "code",
   "execution_count": 4,
   "metadata": {},
   "outputs": [
    {
     "data": {
      "image/png": "[encoded data removed]",
      "text/latex": [
       "$\\displaystyle \\left( N_{0} e^{- \\frac{a x^{2}}{2}}, \\  N_{0} e^{- \\frac{a x^{2}}{2}}\\right)$"
      ],
      "text/plain": [
       "⎛        2           2 ⎞\n",
       "⎜    -a⋅x        -a⋅x  ⎟\n",
       "⎜    ──────      ──────⎟\n",
       "⎜      2           2   ⎟\n",
       "⎝N₀⋅ℯ      , N₀⋅ℯ      ⎠"
      ]
     },
     "execution_count": 4,
     "metadata": {},
     "output_type": "execute_result"
    }
   ],
   "source": [
    "# sympy conjugate() gives the complex conjugate of a function\n",
    "psi_star = conjugate(psi)\n",
    "psi, psi_star"
   ]
  },
  {
   "cell_type": "markdown",
   "metadata": {},
   "source": [
    "### python interlude: complex numbers in sympy and python\n",
    "In python, complex numbers (those related to $\\sqrt{-1}$, the [imaginary unit](https://en.wikipedia.org/wiki/Imaginary_unit)) and $e^x$ can be entered in different ways. If `sympy` is loaded, `I` is the imaginary unit and `E` is the Euler $e$. In 'plain' python these are `1j` and `exp()`. For example $e^{ix}$ can be entered as:\n",
    "\n",
    "- `E**(I*x)` or `exp(I*x)` if sympy has been loaded\n",
    "\n",
    "- `exp((1j * x))` if using 'plain' python\n",
    "\n",
    "If in doubt, use the `type()` function to see what the computer thinks you're using:"
   ]
  },
  {
   "cell_type": "code",
   "execution_count": 5,
   "metadata": {},
   "outputs": [
    {
     "data": {
      "text/plain": [
       "sympy.core.numbers.ImaginaryUnit"
      ]
     },
     "execution_count": 5,
     "metadata": {},
     "output_type": "execute_result"
    }
   ],
   "source": [
    "type(I)"
   ]
  },
  {
   "cell_type": "code",
   "execution_count": 6,
   "metadata": {},
   "outputs": [
    {
     "data": {
      "text/plain": [
       "complex"
      ]
     },
     "execution_count": 6,
     "metadata": {},
     "output_type": "execute_result"
    }
   ],
   "source": [
    "type(1j)"
   ]
  },
  {
   "cell_type": "markdown",
   "metadata": {},
   "source": [
    "### Your Turn\n",
    "Enter an expression for a complex function. Use the `conjugate()` function to compute the complex conjugate. Then multiply the expression and its conjugate. Print all three."
   ]
  },
  {
   "cell_type": "code",
   "execution_count": null,
   "metadata": {},
   "outputs": [],
   "source": []
  },
  {
   "cell_type": "code",
   "execution_count": 7,
   "metadata": {},
   "outputs": [
    {
     "data": {
      "image/png": "[encoded data removed]",
      "text/latex": [
       "$\\displaystyle \\left( x^{2} e^{1.0 i x}, \\  x^{2} e^{- 1.0 i x}, \\  x^{4}\\right)$"
      ],
      "text/plain": [
       "⎛ 2  1.0⋅ⅈ⋅x   2  -1.0⋅ⅈ⋅x   4⎞\n",
       "⎝x ⋅ℯ       , x ⋅ℯ        , x ⎠"
      ]
     },
     "execution_count": 7,
     "metadata": {},
     "output_type": "execute_result"
    }
   ],
   "source": [
    "# solution\n",
    "psij = x**2 * E**(1j*x)\n",
    "psijc = conjugate(psij)\n",
    "psij, psijc, psij*psijc"
   ]
  },
  {
   "cell_type": "markdown",
   "metadata": {},
   "source": [
    "To determine $N_0$, integrate over the domain space. In this case, $-\\infty$ to $\\infty$, represented in sympy by `-oo` and `oo` (two lowercase letter o ; which look similar to the infinity glyph)."
   ]
  },
  {
   "cell_type": "code",
   "execution_count": 8,
   "metadata": {},
   "outputs": [
    {
     "data": {
      "image/png": "[encoded data removed]",
      "text/latex": [
       "$\\displaystyle \\frac{\\sqrt{\\pi} N_{0}^{2}}{\\sqrt{a}}$"
      ],
      "text/plain": [
       "     2\n",
       "√π⋅N₀ \n",
       "──────\n",
       "  √a  "
      ]
     },
     "execution_count": 8,
     "metadata": {},
     "output_type": "execute_result"
    }
   ],
   "source": [
    "# 'prob' is short for 'probability'\n",
    "prob = integrate(psi * psi_star, (x, -oo, oo))\n",
    "prob"
   ]
  },
  {
   "cell_type": "markdown",
   "metadata": {},
   "source": [
    "Solve the equation \n",
    "\n",
    "$$ \\int_{-\\infty} ^{\\infty} \\psi(x)^* \\psi(x) dx = 1$$ \n",
    "\n",
    "for $N_0$. The symbolic solver in sympy equates an expression to zero, and then solves for a variable. We need to rearrange the equation to\n",
    "\n",
    "$$ \\int_{-\\infty} ^{\\infty} \\psi(x)^* \\psi(x) dx - 1 = 0$$"
   ]
  },
  {
   "cell_type": "code",
   "execution_count": 9,
   "metadata": {},
   "outputs": [
    {
     "data": {
      "image/png": "[encoded data removed]",
      "text/latex": [
       "$\\displaystyle \\left[ \\frac{\\sqrt[4]{a}}{\\sqrt[4]{\\pi}}\\right]$"
      ],
      "text/plain": [
       "⎡4 ___⎤\n",
       "⎢╲╱ a ⎥\n",
       "⎢─────⎥\n",
       "⎢4 ___⎥\n",
       "⎣╲╱ π ⎦"
      ]
     },
     "execution_count": 9,
     "metadata": {},
     "output_type": "execute_result"
    }
   ],
   "source": [
    "solve(prob - 1, N0)"
   ]
  },
  {
   "cell_type": "markdown",
   "metadata": {},
   "source": [
    "Although there is only one solution, the brackets tell us sympy returned a list. This is handy if more than one solution exists. To use the normalization constant later, assign the name `norm` to the first (and only) entry in the solution list. Remember, python lists are zero-indexed."
   ]
  },
  {
   "cell_type": "code",
   "execution_count": 10,
   "metadata": {},
   "outputs": [
    {
     "data": {
      "image/png": "[encoded data removed]",
      "text/latex": [
       "$\\displaystyle \\frac{\\sqrt[4]{a}}{\\sqrt[4]{\\pi}}$"
      ],
      "text/plain": [
       "4 ___\n",
       "╲╱ a \n",
       "─────\n",
       "4 ___\n",
       "╲╱ π "
      ]
     },
     "execution_count": 10,
     "metadata": {},
     "output_type": "execute_result"
    }
   ],
   "source": [
    "norm = solve(prob -1, N0)[0]\n",
    "norm"
   ]
  },
  {
   "cell_type": "markdown",
   "metadata": {},
   "source": [
    "Verify that the normlization constant is correct by substituting `norm` for $N_0$ in the expression for `prob`."
   ]
  },
  {
   "cell_type": "code",
   "execution_count": 11,
   "metadata": {},
   "outputs": [
    {
     "data": {
      "image/png": "[encoded data removed]",
      "text/latex": [
       "$\\displaystyle 1$"
      ],
      "text/plain": [
       "1"
      ]
     },
     "execution_count": 11,
     "metadata": {},
     "output_type": "execute_result"
    }
   ],
   "source": [
    "prob.subs(N0,norm)"
   ]
  },
  {
   "cell_type": "markdown",
   "metadata": {},
   "source": [
    "It is useful to use 'actual' numbers and verify the symbolic result.\n",
    "\n",
    "Assign a numeric value to $a$ (let's use 3), and repeat the process. Use `.evalf()` method, or the `N()` function to get numeric results from symbolic expressions. (Recall, $f$ was the unormalized function.)"
   ]
  },
  {
   "cell_type": "code",
   "execution_count": 12,
   "metadata": {},
   "outputs": [
    {
     "data": {
      "image/png": "[encoded data removed]",
      "text/latex": [
       "$\\displaystyle e^{- \\frac{a x^{2}}{2}}$"
      ],
      "text/plain": [
       "     2 \n",
       " -a⋅x  \n",
       " ──────\n",
       "   2   \n",
       "ℯ      "
      ]
     },
     "execution_count": 12,
     "metadata": {},
     "output_type": "execute_result"
    }
   ],
   "source": [
    "f"
   ]
  },
  {
   "cell_type": "code",
   "execution_count": 13,
   "metadata": {},
   "outputs": [
    {
     "data": {
      "image/png": "[encoded data removed]",
      "text/latex": [
       "$\\displaystyle 1$"
      ],
      "text/plain": [
       "1"
      ]
     },
     "execution_count": 13,
     "metadata": {},
     "output_type": "execute_result"
    }
   ],
   "source": [
    "psi = (norm * f).subs(a,3)\n",
    "psi_star = conjugate(psi)\n",
    "prob = integrate (psi*psi_star, (x,-oo, oo))\n",
    "prob"
   ]
  },
  {
   "cell_type": "markdown",
   "metadata": {},
   "source": [
    "Suppose we want the probability for $0 \\le x \\le 1$?"
   ]
  },
  {
   "cell_type": "code",
   "execution_count": 14,
   "metadata": {},
   "outputs": [
    {
     "data": {
      "image/png": "[encoded data removed]",
      "text/latex": [
       "$\\displaystyle 0.492847060782285$"
      ],
      "text/plain": [
       "0.492847060782285"
      ]
     },
     "execution_count": 14,
     "metadata": {},
     "output_type": "execute_result"
    }
   ],
   "source": [
    "# N gives numeric (floating point) result\n",
    "N(integrate(psi*psi_star, (x, 0, 1)))"
   ]
  },
  {
   "cell_type": "markdown",
   "metadata": {},
   "source": [
    "# Plot the wavefunction and probability amplitude\n",
    "\n",
    "Sympy takes a different approach to plotting than matplotlib/pyplot. The sympy plotting functions generally produce figures that look more like those from \"math books\".  For example, axis origin is a the center of a figure rather than the lower left corner.  Sympy also assumes a plot range of -1 < x < 1 unless told otherwise. \n",
    "\n",
    "Use sympy to plot $\\psi$ and $\\psi^* \\psi$, the normalized wavefunctions."
   ]
  },
  {
   "cell_type": "code",
   "execution_count": 15,
   "metadata": {},
   "outputs": [],
   "source": [
    "# subs = substitute values for variables\n",
    "# Use a dictionary or list for multiple substitutions\n",
    "\n",
    "psi = psi.subs( {a:3, N0:norm} )\n",
    "psi_star = psi_star.subs( [(a,3), (N0,norm)] )"
   ]
  },
  {
   "cell_type": "code",
   "execution_count": 16,
   "metadata": {},
   "outputs": [
    {
     "data": {
      "image/png": "[encoded data removed]",
      "text/latex": [
       "$\\displaystyle \\frac{\\sqrt[4]{3} e^{- \\frac{3 x^{2}}{2}}}{\\sqrt[4]{\\pi}}$"
      ],
      "text/plain": [
       "           2 \n",
       "       -3⋅x  \n",
       "       ──────\n",
       "4 ___    2   \n",
       "╲╱ 3 ⋅ℯ      \n",
       "─────────────\n",
       "    4 ___    \n",
       "    ╲╱ π     "
      ]
     },
     "execution_count": 16,
     "metadata": {},
     "output_type": "execute_result"
    }
   ],
   "source": [
    "psi"
   ]
  },
  {
   "cell_type": "code",
   "execution_count": 17,
   "metadata": {},
   "outputs": [
    {
     "data": {
      "image/png": "[encoded data removed]",
      "text/plain": [
       "<Figure size 432x288 with 1 Axes>"
      ]
     },
     "metadata": {
      "needs_background": "light"
     },
     "output_type": "display_data"
    }
   ],
   "source": [
    "p1 = plot(psi, (x, -3, 3), show=False)\n",
    "p1[0].label='$\\psi(x)$'\n",
    "p1.xlabel=''\n",
    "p1.ylabel=''\n",
    "p1.legend=True\n",
    "\n",
    "p2 = plot(psi**2, (x,-3,3), line_color='r', show=False)\n",
    "p2[0].label='$\\psi^2(x)$'\n",
    "\n",
    "p1.extend(p2)\n",
    "p1.show()"
   ]
  },
  {
   "cell_type": "markdown",
   "metadata": {},
   "source": [
    "The probability amplitude, $\\psi^2$ has a narrower shape. Is $\\psi$ normlized?"
   ]
  },
  {
   "cell_type": "markdown",
   "metadata": {},
   "source": [
    "# Calculating probability of finding a particle in a specified region\n",
    "Calculate the probability of finding a particle described by the function in a\n",
    "specified region that can be easily changed. We'll start with x1 = 0 and x2 = 0.5."
   ]
  },
  {
   "cell_type": "code",
   "execution_count": 18,
   "metadata": {},
   "outputs": [
    {
     "data": {
      "image/png": "[encoded data removed]",
      "text/latex": [
       "$\\displaystyle 0.389664319040077$"
      ],
      "text/plain": [
       "0.389664319040077"
      ]
     },
     "execution_count": 18,
     "metadata": {},
     "output_type": "execute_result"
    }
   ],
   "source": [
    "x1, x2 = 0, 0.5\n",
    "\n",
    "integrate(psi*psi_star,(x, x1, x2)).evalf()"
   ]
  },
  {
   "cell_type": "markdown",
   "metadata": {},
   "source": [
    "This process might be repeated frequently. If so, it's probably worth defining in the form of a python function."
   ]
  },
  {
   "cell_type": "code",
   "execution_count": 19,
   "metadata": {},
   "outputs": [],
   "source": [
    "# default limits of infinity are provided, but can be overridden\n",
    "def prob_func(f, x_lower=-oo, x_upper=oo):\n",
    "    'integrate the normalized wavefunction f(x) from x_l to x_u'\n",
    "    \n",
    "    fstar = conjugate(f)\n",
    "    prob = integrate(fstar * f, (x, x_lower, x_upper))\n",
    "    return prob"
   ]
  },
  {
   "cell_type": "markdown",
   "metadata": {},
   "source": [
    "Print the probability over 10 intervals within the box."
   ]
  },
  {
   "cell_type": "code",
   "execution_count": 20,
   "metadata": {},
   "outputs": [
    {
     "name": "stdout",
     "output_type": "stream",
     "text": [
      "Probability over intervals\n",
      "[0.0, 0.1, 0.2, 0.3, 0.4, 0.5, 0.6, 0.7, 0.8, 0.9, 1.0]\n",
      "0\n",
      "0.0967520297463300\n",
      "0.187896942616797\n",
      "0.268783636774762\n",
      "0.336406561104847\n",
      "0.389664319040077\n",
      "0.429177654852432\n",
      "0.456794633513150\n",
      "0.474978239375647\n",
      "0.486256831944245\n",
      "0.492847060782285\n"
     ]
    }
   ],
   "source": [
    "psi = psi.subs({a:1, N0:norm})\n",
    "lengths = [l/10 for l in range(0, 11)]\n",
    "print(\"Probability over intervals\")\n",
    "print(lengths)\n",
    "for l in lengths:\n",
    "    print(prob_func(psi, 0, l).evalf())"
   ]
  },
  {
   "cell_type": "markdown",
   "metadata": {},
   "source": [
    "# Calculate average values\n",
    "The expectation value $\\langle a \\rangle$ for an observable or property is calculated by finding the operator that describes that observable, finding a normalized wavefunction that describes the system under consideration, and using the integral definition for expectation value:\n",
    "\n",
    "$$ \\langle a \\rangle = \\int \\psi^*(x)\\, \\hat{A}\\, \\psi(x)\\ dx $$ "
   ]
  },
  {
   "cell_type": "markdown",
   "metadata": {},
   "source": [
    "The position operator is $\\hat{x} = x$; just multiplication by $x$. In our example, the range for $x$ is $-\\infty$ to $\\infty$, so the average (or *expectation*) value might be predictable looking at the symmetry of the probability plot. "
   ]
  },
  {
   "cell_type": "code",
   "execution_count": 21,
   "metadata": {},
   "outputs": [
    {
     "data": {
      "image/png": "[encoded data removed]",
      "text/latex": [
       "$\\displaystyle 0$"
      ],
      "text/plain": [
       "0"
      ]
     },
     "execution_count": 21,
     "metadata": {},
     "output_type": "execute_result"
    }
   ],
   "source": [
    "x_avg = integrate(psi_star * x * psi, (x, -oo, oo))\n",
    "x_avg"
   ]
  },
  {
   "cell_type": "markdown",
   "metadata": {},
   "source": [
    "# Calculate an uncertainty (standard deviation and variance) in the expectation value for position\n",
    "Variance in a quantity can be calculated simply as the expectation value for the quantity squared (position squared in this case, $\\langle x^2\\rangle$) minus the (expectation value for the quantity)-squared ($\\langle x \\rangle^2$ in this case.)\n",
    "\n",
    "$$\\sigma^2 = \\int \\psi^*\\, x^2\\, \\psi\\; dx - \\left ( \\int \\psi^*\\, x\\, \\psi \\;dx \\right )^2 $$"
   ]
  },
  {
   "cell_type": "code",
   "execution_count": 22,
   "metadata": {},
   "outputs": [],
   "source": [
    "sigma_squared = integrate(psi_star * x**2 * psi, (x,-oo,oo)) - (integrate(psi_star*x*psi, (x,-oo,oo)))**2"
   ]
  },
  {
   "cell_type": "code",
   "execution_count": 23,
   "metadata": {},
   "outputs": [
    {
     "data": {
      "image/png": "[encoded data removed]",
      "text/latex": [
       "$\\displaystyle 0.408248290463863$"
      ],
      "text/plain": [
       "0.408248290463863"
      ]
     },
     "execution_count": 23,
     "metadata": {},
     "output_type": "execute_result"
    }
   ],
   "source": [
    "sqrt(sigma_squared).evalf()"
   ]
  },
  {
   "cell_type": "markdown",
   "metadata": {},
   "source": [
    "# Is a wavefunction an eigenfunction of an operator?\n",
    "Eigenfunctions of an operator have the property\n",
    "\n",
    "$$ \\hat{A}f = a f$$\n",
    "\n",
    "where $a$ is the eigenvalue.\n",
    "\n",
    "See if the function $\\psi(x)=\\exp(-a_0 x^2/2)$ is an eigenfunction of the kinetic energy operator $$\\hat{T} = \\frac{\\hbar^2}{2m} \\frac{d^2 \\psi(x)}{dx^2} $$"
   ]
  },
  {
   "cell_type": "code",
   "execution_count": 24,
   "metadata": {},
   "outputs": [],
   "source": [
    "# this could be done as an expression, but seems a natural for python function\n",
    "def T_hat(f):\n",
    "    \"Apply the kinetic energy operator T on function f(x)\"\n",
    "    hbar, m = symbols('hbar m')\n",
    "    return hbar**2 /(2*m) * diff(f, x, 2)"
   ]
  },
  {
   "cell_type": "code",
   "execution_count": 25,
   "metadata": {},
   "outputs": [],
   "source": [
    "psi = N0 * exp(-a*x**2/2)"
   ]
  },
  {
   "cell_type": "code",
   "execution_count": 26,
   "metadata": {},
   "outputs": [
    {
     "data": {
      "image/png": "[encoded data removed]",
      "text/latex": [
       "$\\displaystyle \\frac{N_{0} a \\hbar^{2} \\left(a x^{2} - 1\\right) e^{- \\frac{a x^{2}}{2}}}{2 m}$"
      ],
      "text/plain": [
       "                         2 \n",
       "                     -a⋅x  \n",
       "                     ──────\n",
       "       2 ⎛   2    ⎞    2   \n",
       "N₀⋅a⋅h̅ ⋅⎝a⋅x  - 1⎠⋅ℯ      \n",
       "───────────────────────────\n",
       "            2⋅m            "
      ]
     },
     "execution_count": 26,
     "metadata": {},
     "output_type": "execute_result"
    }
   ],
   "source": [
    "T_hat(psi)"
   ]
  },
  {
   "cell_type": "markdown",
   "metadata": {},
   "source": [
    "`T_hat()` returned the result of operating on $\\psi$. If $\\psi$ is an eigenfunction, we should be able to factor this result into $a\\psi$ where $a$ is the eigenvalue. Another approach would be to divide both sides by the function and see if the result is a constant.\n",
    "$$\\frac{\\hat{A}f}{f} = a$$"
   ]
  },
  {
   "cell_type": "code",
   "execution_count": 27,
   "metadata": {},
   "outputs": [
    {
     "data": {
      "image/png": "[encoded data removed]",
      "text/latex": [
       "$\\displaystyle \\frac{a \\hbar^{2} \\left(a x^{2} - 1\\right)}{2 m}$"
      ],
      "text/plain": [
       "    2 ⎛   2    ⎞\n",
       "a⋅h̅ ⋅⎝a⋅x  - 1⎠\n",
       "────────────────\n",
       "      2⋅m       "
      ]
     },
     "execution_count": 27,
     "metadata": {},
     "output_type": "execute_result"
    }
   ],
   "source": [
    "T_hat(psi)/psi"
   ]
  },
  {
   "cell_type": "markdown",
   "metadata": {},
   "source": [
    "Because this result contains $x^2$, it is not a constant. Therefore, $\\psi$ is not an eigenfunction of the kinetic energy operator $\\hat{T}$. "
   ]
  },
  {
   "cell_type": "markdown",
   "metadata": {},
   "source": [
    "How about $\\cos(x)$?"
   ]
  },
  {
   "cell_type": "code",
   "execution_count": 28,
   "metadata": {},
   "outputs": [
    {
     "data": {
      "image/png": "[encoded data removed]",
      "text/latex": [
       "$\\displaystyle - \\frac{\\hbar^{2} \\cos{\\left(x \\right)}}{2 m}$"
      ],
      "text/plain": [
       "   2        \n",
       "-h̅ ⋅cos(x) \n",
       "────────────\n",
       "    2⋅m     "
      ]
     },
     "execution_count": 28,
     "metadata": {},
     "output_type": "execute_result"
    }
   ],
   "source": [
    "T_hat(cos(x))"
   ]
  },
  {
   "cell_type": "markdown",
   "metadata": {},
   "source": [
    "So, $\\cos(x)$ is indeed an eigenfunction of $\\hat{T}$ and the eigenvalue is $-\\hbar^2/2m$. However, $\\cos(x)$ is not a valid wavefunction for the particle-in-a-box model.  Why not?"
   ]
  },
  {
   "cell_type": "markdown",
   "metadata": {},
   "source": [
    "# Is a function orthogonal to another function?\n",
    "\n",
    "The functions\n",
    " \n",
    "$$\\phi_n(\\theta) = e^{in\\theta} $$\n",
    "\n",
    "where $n$ is an integer and $0 \\le \\theta \\le 2\\pi$ are orthogonal if \n",
    "\n",
    "$$\\int_0^{2\\pi} \\phi_n^*(\\theta) \\phi_m^*(\\theta)\\; d\\theta = 0 $$\n",
    "for $m\\ne n$."
   ]
  },
  {
   "cell_type": "code",
   "execution_count": 29,
   "metadata": {},
   "outputs": [],
   "source": [
    "var('theta n', real=True)\n",
    "def phi(n): \n",
    "    return exp(I*n*theta)"
   ]
  },
  {
   "cell_type": "code",
   "execution_count": 30,
   "metadata": {},
   "outputs": [
    {
     "data": {
      "image/png": "[encoded data removed]",
      "text/latex": [
       "$\\displaystyle 0$"
      ],
      "text/plain": [
       "0"
      ]
     },
     "execution_count": 30,
     "metadata": {},
     "output_type": "execute_result"
    }
   ],
   "source": [
    "integrate(conjugate(phi(1)) * phi(0), (theta, 0, 2*pi))"
   ]
  },
  {
   "cell_type": "markdown",
   "metadata": {},
   "source": [
    "$\\phi_1$ and $\\phi_2$ are orgthogonal."
   ]
  },
  {
   "cell_type": "markdown",
   "metadata": {},
   "source": [
    "### Your Turn\n",
    "Are the $\\phi_n(\\theta)$ wavefunctions normlized? If not, how could you normalize them? Try it."
   ]
  },
  {
   "cell_type": "code",
   "execution_count": null,
   "metadata": {},
   "outputs": [],
   "source": []
  },
  {
   "cell_type": "markdown",
   "metadata": {},
   "source": [
    "### Python interlude: range() and loops\n",
    "Using loops can make quick work of iterating over many combinations. (NB: This is a silly example, as it only shows a pattern for a few specific cases; orthogonality is not proven in general)"
   ]
  },
  {
   "cell_type": "code",
   "execution_count": 31,
   "metadata": {},
   "outputs": [
    {
     "name": "stdout",
     "output_type": "stream",
     "text": [
      "m, n, integral\n",
      " --------------------\n",
      "(0, 0, 2⋅π)\n",
      "(1, 0, 0)\n",
      "(2, 0, 0)\n",
      "(3, 0, 0)\n",
      "(0, 1, 0)\n",
      "(1, 1, 2⋅π)\n",
      "(2, 1, 0)\n",
      "(3, 1, 0)\n",
      "(0, 2, 0)\n",
      "(1, 2, 0)\n",
      "(2, 2, 2⋅π)\n",
      "(3, 2, 0)\n",
      "(0, 3, 0)\n",
      "(1, 3, 0)\n",
      "(2, 3, 0)\n",
      "(3, 3, 2⋅π)\n"
     ]
    }
   ],
   "source": [
    "print(\"m, n, integral\\n\", 20*\"-\")\n",
    "for n in range(0,4):\n",
    "    for m in range(0,4):\n",
    "        result = integrate(conjugate(phi(m)) * phi(n), (theta, 0, 2*pi))\n",
    "        pprint((m, n, result))"
   ]
  },
  {
   "cell_type": "markdown",
   "metadata": {},
   "source": [
    "# Finis"
   ]
  },
  {
   "cell_type": "code",
   "execution_count": null,
   "metadata": {},
   "outputs": [],
   "source": []
  }
 ],
 "metadata": {
  "kernelspec": {
   "display_name": "Python 3 (ipykernel)",
   "language": "python",
   "name": "python3"
  },
  "language_info": {
   "codemirror_mode": {
    "name": "ipython",
    "version": 3
   },
   "file_extension": ".py",
   "mimetype": "text/x-python",
   "name": "python",
   "nbconvert_exporter": "python",
   "pygments_lexer": "ipython3",
   "version": "3.9.7"
  }
 },
 "nbformat": 4,
 "nbformat_minor": 4
}
