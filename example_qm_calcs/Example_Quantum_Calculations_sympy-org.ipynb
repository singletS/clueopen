{
 "cells": [
  {
   "cell_type": "markdown",
   "id": "cf4adf6d-faae-4f73-a8f7-62fb6970faee",
   "metadata": {},
   "source": [
    "## Solving Common Introductory Quantum Mechanics Problems using Sympy\n",
    "\n"
   ]
  },
  {
   "cell_type": "markdown",
   "id": "424bdb78-c0d7-476c-b5f1-4f7bdd63afbc",
   "metadata": {},
   "source": [
    "S. Singleton, inspired by Erica Harvey of the\n",
    "[Symmath Project](https://pubs.acs.org/doi/pdf/10.1021/ed081p155).\n",
    "\n",
    "This notebook show basic examples for quantum calculations encountered\n",
    "in undergraduate physical chemistry course. The purpose of this notebook\n",
    "is not to explain the theory behind the calculations, bur rather show\n",
    "how python can be used for solving typical problems.\n",
    "\n",
    "This notebook assumes [sympy](http://sympy.org) is available and some\n",
    "familiarity with python lists and functions. The\n",
    "[sympy tutorial](http://docs.sympy.org/latest/tutorial/index.html)\n",
    "describes all of the functions used in the notebook.\n",
    "\n"
   ]
  },
  {
   "cell_type": "markdown",
   "id": "c13291d8-adfb-4bb6-9aea-19bbb11437ce",
   "metadata": {},
   "source": [
    "### Objectives\n",
    "\n"
   ]
  },
  {
   "cell_type": "markdown",
   "id": "3b6300d3-c067-42c7-a12c-5c6696605bf7",
   "metadata": {},
   "source": [
    "After completing this work you should be able to use python and sympy to\n",
    "\n",
    "1.  calculate a normalization constant\n",
    "2.  calculate an expectation value and its variance\n",
    "3.  determine whether a function is an eigenvalue of an operator\n",
    "4.  determine if functions are orthogonal\n",
    "\n"
   ]
  },
  {
   "cell_type": "markdown",
   "id": "286414a3-e96d-4600-b46c-f30f4388d2ad",
   "metadata": {},
   "source": [
    "### Prerequisites\n",
    "\n"
   ]
  },
  {
   "cell_type": "markdown",
   "id": "65c16447-0214-4e43-888f-3f6e51e215bf",
   "metadata": {},
   "source": [
    "-   basic knowledge of python and sympy\n",
    "-   an installed python [scipy](http://www.scipy.org) stack\n",
    "-   an installed python [sympy](http://www.sympy.org) symbolic computation\n",
    "    library\n",
    "-   basic understanding of eigenfuctions, normalization, orthogonality,\n",
    "    and expectation values\n",
    "\n"
   ]
  },
  {
   "cell_type": "markdown",
   "id": "75997b3f-58ac-4e4a-8dd2-541ab501ea8f",
   "metadata": {},
   "source": [
    "### Python environment\n",
    "\n"
   ]
  },
  {
   "cell_type": "markdown",
   "id": "886a00e6-f4b7-431c-9ff6-d93b9bd73b60",
   "metadata": {},
   "source": [
    "First, import libaries and initialize sympy&rsquo;s pretty printing.\n",
    "\n"
   ]
  },
  {
   "cell_type": "code",
   "execution_count": 1,
   "id": "99ab4889-a1f1-4ca7-99c6-d2d63242ec46",
   "metadata": {},
   "outputs": [],
   "source": [
    "# import and initialize libraries\n",
    "import matplotlib.pyplot as plt\n",
    "%matplotlib inline\n",
    "import numpy as np\n",
    "from sympy import *\n",
    "\n",
    "# uncomment one of these and comment the other\n",
    "init_printing() # jupyter, cocalc\n",
    "#init_printing(use_latex=False) # google colaboratory"
   ]
  },
  {
   "cell_type": "markdown",
   "id": "34c226f1-01c7-4aa4-b2ef-a42cae5c61b0",
   "metadata": {},
   "source": [
    "### General properties of wavefunctions\n",
    "\n"
   ]
  },
  {
   "cell_type": "markdown",
   "id": "1b56aef7-83b5-4657-82d4-638fe3cdfa92",
   "metadata": {},
   "source": [
    "Remind yourself of some key properties of wavefunctions. These\n",
    "properties (sometimes call Born&rsquo;s conditions) are generally found in a\n",
    "discussion on the postulates of quantum mechanics.\n",
    "\n"
   ]
  },
  {
   "cell_type": "markdown",
   "id": "a4e783dd-f131-4c39-8b3f-ac937d76a63d",
   "metadata": {},
   "source": [
    "## Normalizing functions\n",
    "\n"
   ]
  },
  {
   "cell_type": "markdown",
   "id": "0c4bde4d-68c8-435d-9877-44b79caf23c9",
   "metadata": {},
   "source": [
    "One of the postulates of quantum mechanics states we can calculate the\n",
    "probability of finding a particle in a certain space if the wavefunction\n",
    "is known. To compare probabilities, the *normalization condition* must\n",
    "be satisfied: $$ \\int_{0}^a \\psi(x)^* \\psi(x)\\; dx = 1 $$\n",
    "\n",
    "We start with a simple function representing the wavefunction of a\n",
    "particle\n",
    "\n",
    "$$ f(x) = N_0 e^{-ax^2/2} $$\n",
    "\n",
    "where $N_0$ and $a$ are constants.\n",
    "\n",
    "**Question:** Is this a valid wavefunction for the particle in a box model?\n",
    "\n"
   ]
  },
  {
   "cell_type": "code",
   "execution_count": 1,
   "id": "acaa9e9c-3f6e-48f1-a33b-11f7732148d7",
   "metadata": {},
   "outputs": [],
   "source": []
  },
  {
   "cell_type": "markdown",
   "id": "56cf9ceb-407a-40b0-a9bf-8c6f2de0d46b",
   "metadata": {},
   "source": [
    "`sympy` needs help to know what the variables are in a function. We can\n",
    "also include sensible assumptions about those variables if they are\n",
    "known. This is not necessary, but allows us to disregard physically\n",
    "impossible results (and speed up some computations).\n",
    "\n"
   ]
  },
  {
   "cell_type": "code",
   "execution_count": 1,
   "id": "aa1ae388-2562-4e74-bf45-77c9412e45c9",
   "metadata": {},
   "outputs": [
    {
     "data": {
      "image/png": "",
      "text/plain": [
       "<matplotlib.figure.Figure>"
      ]
     },
     "metadata": {},
     "output_type": "display_data"
    }
   ],
   "source": [
    "a, x, N0 = symbols('a x N0', positive=True)\n",
    "\n",
    "f = E**(-a * x**2 / 2)\n",
    "f"
   ]
  },
  {
   "cell_type": "markdown",
   "id": "a79d871c-f7ec-43bf-8ea1-5fd200a699d7",
   "metadata": {},
   "source": [
    "`f` is a sympy *expression* (which is different than a sympy function).\n",
    "\n",
    "Now, define the wavefunction $\\psi(x)$ using `f`:\n",
    "\n"
   ]
  },
  {
   "cell_type": "code",
   "execution_count": 1,
   "id": "e47d30cc-a0ca-468a-a499-a8bb77f2bede",
   "metadata": {},
   "outputs": [],
   "source": [
    "psi = N0 * f\n",
    "psi"
   ]
  },
  {
   "cell_type": "markdown",
   "id": "087c3074-9652-4b42-8462-1f29825ca3b3",
   "metadata": {},
   "source": [
    "**Question:** What is the difference between `f` and `psi`?\n",
    "\n"
   ]
  },
  {
   "cell_type": "code",
   "execution_count": 1,
   "id": "f4987906-896e-4976-b27d-49ead201ea96",
   "metadata": {},
   "outputs": [],
   "source": []
  },
  {
   "cell_type": "markdown",
   "id": "f6ff3f59-75f1-4514-8544-f73119af960e",
   "metadata": {},
   "source": [
    "sympy&rsquo;s `conjugate()` gives the complex conjugate. Because `psi(x)` is\n",
    "real, its complex conjugate is the same function.\n",
    "\n"
   ]
  },
  {
   "cell_type": "code",
   "execution_count": 1,
   "id": "5c19823e-6a2e-4e1f-a7d3-ac64e4934427",
   "metadata": {},
   "outputs": [],
   "source": [
    "# sympy conjugate() gives the complex conjugate of a function\n",
    "psi_star = conjugate(psi)\n",
    "psi, psi_star"
   ]
  },
  {
   "cell_type": "markdown",
   "id": "5a15d221-64f4-4652-ab67-132fdc1683fe",
   "metadata": {},
   "source": [
    "##### Python interlude: complex numbers in sympy and python\n",
    "\n"
   ]
  },
  {
   "cell_type": "markdown",
   "id": "0c0847a4-a0e5-49b9-beba-3330e27d56f5",
   "metadata": {},
   "source": [
    "In python, complex numbers (those related to $\\sqrt{-1}$, the\n",
    "[imaginary unit](https://en.wikipedia.org/wiki/Imaginary_unit)) and\n",
    "$e^x$ can be entered in different ways. If `sympy` is loaded, `I` is the\n",
    "imaginary unit and `E` is the Euler $e$. In &rsquo;plain&rsquo; python these are\n",
    "`1j` and `exp()`. For example $e^{ix}$ can be entered as:\n",
    "\n",
    "-   `E**(I*x)` or `exp(I*x)` symbolic (sympy) form\n",
    "\n",
    "-   `exp((1j * x))` numeric (&rsquo;plain&rsquo; python) form\n",
    "\n",
    "If in doubt, use the `type()` function to see what the computer thinks\n",
    "you&rsquo;re using:\n",
    "\n"
   ]
  },
  {
   "cell_type": "code",
   "execution_count": 1,
   "id": "d4376d81-039d-4dfe-8dc4-8e704923584a",
   "metadata": {},
   "outputs": [],
   "source": [
    "type(I)"
   ]
  },
  {
   "cell_type": "code",
   "execution_count": 1,
   "id": "4522d2fb-e53c-480e-913d-c14a8bc7ae07",
   "metadata": {},
   "outputs": [],
   "source": [
    "type(1j)"
   ]
  },
  {
   "cell_type": "markdown",
   "id": "88a68d02-0d95-4ddf-b920-9167abdc8f69",
   "metadata": {},
   "source": [
    "## Plot the wavefunction and probability amplitude\n",
    "\n"
   ]
  },
  {
   "cell_type": "markdown",
   "id": "f7ed2619-d8e8-4bd2-a8f8-6b34f7cfaedb",
   "metadata": {},
   "source": [
    "Sympy takes a different approach to plotting than matplotlib/pyplot. The\n",
    "sympy plotting functions generally produce figures that look more like\n",
    "those from &ldquo;math books&rdquo;. For example, axis origin is in the center of a\n",
    "figure rather than the lower left corner. Sympy assumes a plot range of\n",
    "-1 < x < 1 unless told otherwise.\n",
    "\n",
    "Use sympy to plot $\\psi$ and $\\psi^* \\psi$, the normalized\n",
    "wavefunctions.\n",
    "\n"
   ]
  },
  {
   "cell_type": "code",
   "execution_count": 1,
   "id": "621065fb-5c7b-4fb9-9562-4d8c0e305002",
   "metadata": {},
   "outputs": [],
   "source": [
    "# subs = substitute values for variables\n",
    "psi = psi.subs({a:3, N0:norm})  # using a dictionary for multiple subsitutions\n",
    "psi_star = psi_star.subs([(a,3), (N0,norm)])  # using a list"
   ]
  },
  {
   "cell_type": "code",
   "execution_count": 1,
   "id": "c221232c-5a9b-4590-9ab1-69f067e0eecd",
   "metadata": {},
   "outputs": [],
   "source": [
    "psi"
   ]
  },
  {
   "cell_type": "code",
   "execution_count": 1,
   "id": "3381f4a2-280d-47f6-a9a9-97d6fc8b642d",
   "metadata": {},
   "outputs": [],
   "source": [
    "p1 = plot(psi, (x, -4, 4), show=False)\n",
    "p1[0].label=r'$\\psi(x)$'\n",
    "p1.xlabel=''\n",
    "p1.ylabel=''\n",
    "p1.legend=True\n",
    "\n",
    "p2 = plot(psi**2, (x,-4,4), line_color='r', show=False) # don't show the plot until it's 'extended'\n",
    "p2[0].label = r'$\\psi^2(x)$'\n",
    "\n",
    "p1.extend(p2) # combine the plot lines\n",
    "p1.show()"
   ]
  },
  {
   "cell_type": "markdown",
   "id": "e48e7f07-b55a-4edb-8818-7df5e25c02f8",
   "metadata": {},
   "source": [
    "The probability amplitude, $\\psi^2$ has a narrower shape. Is $\\psi$\n",
    "normlized?\n",
    "\n"
   ]
  },
  {
   "cell_type": "markdown",
   "id": "e0fa3827-88b2-414d-ba13-1eed36d45664",
   "metadata": {},
   "source": [
    "## Calculating probability of finding a particle in a specified region\n",
    "\n"
   ]
  },
  {
   "cell_type": "markdown",
   "id": "94d4a7ae-5510-4b74-a4d8-8f507286f7a4",
   "metadata": {},
   "source": [
    "Using the wavefunction defined above, we&rsquo;ll calculate the probability of\n",
    "finding the particle in the region between x1 = 0 and x2 = 0.5.\n",
    "\n"
   ]
  },
  {
   "cell_type": "code",
   "execution_count": 1,
   "id": "0824c4d7-fee0-4dcf-9d1b-cd3ad3b8a23d",
   "metadata": {},
   "outputs": [],
   "source": [
    "x1, x2 = 0, 0.5\n",
    "\n",
    "integrate(psi*psi_star,(x, x1, x2)).evalf()"
   ]
  },
  {
   "cell_type": "markdown",
   "id": "8d8a7687-11b6-433c-8589-8fb088daee4e",
   "metadata": {},
   "source": [
    "This process might be repeated frequently. If so, it&rsquo;s probably worth\n",
    "defining in the form of a python function.\n",
    "\n"
   ]
  },
  {
   "cell_type": "code",
   "execution_count": 1,
   "id": "fec74ddf-486d-4f90-8e42-4404703c803c",
   "metadata": {},
   "outputs": [],
   "source": [
    "# default limits of infinity are provided, but can be overridden\n",
    "def prob_func(f, x_lower=-oo, x_upper=oo):\n",
    "    'integrate the normalized wavefunction f(x) from x_l to x_u'\n",
    "    \n",
    "    fstar = conjugate(f)\n",
    "    prob = integrate(fstar * f, (x, x_lower, x_upper))\n",
    "    return prob"
   ]
  },
  {
   "cell_type": "markdown",
   "id": "424fef3b-8ce6-4436-abdb-2bb1d4204065",
   "metadata": {},
   "source": [
    "Print the probability over 10 intervals within the box.\n",
    "\n"
   ]
  },
  {
   "cell_type": "code",
   "execution_count": 1,
   "id": "0e254382-ae27-4a44-bdea-cacc8cfa09c5",
   "metadata": {},
   "outputs": [],
   "source": [
    "psi = psi.subs({a:1, N0:norm})\n",
    "lengths = [l/10 for l in range(0, 11)]\n",
    "probs = []\n",
    "print(\"Probability over intervals\")\n",
    "print(lengths)\n",
    "for l in lengths:\n",
    "    p = prob_func(psi, 0, l).evalf()\n",
    "    probs.append(p)\n",
    "    print(p)\n",
    "    #print(prob_func(psi, 0, l).evalf())\n",
    "Add(p)"
   ]
  },
  {
   "cell_type": "markdown",
   "id": "97c2aba4-a760-4d5c-aa84-1171fa4ad137",
   "metadata": {},
   "source": [
    "## Calculate average values\n",
    "\n"
   ]
  },
  {
   "cell_type": "markdown",
   "id": "f03faffa-0c7c-45c3-8cbc-97e81c4f21b1",
   "metadata": {},
   "source": [
    "The expectation value $\\langle a \\rangle$ for an observable or property\n",
    "is calculated by finding the operator that describes that observable,\n",
    "finding a normalized wavefunction that describes the system under\n",
    "consideration, and using the integral definition for expectation value:\n",
    "\n",
    "$$ \\langle a \\rangle = \\int \\psi^*(x)\\, \\hat{A}\\, \\psi(x)\\ dx $$\n",
    "\n",
    "The position operator is $\\hat{x} = x$; just multiplication by $x$. In\n",
    "our example, the range for $x$ is $-\\infty$ to $\\infty$, so the average\n",
    "(or *expectation*) value might be predictable looking at the symmetry of\n",
    "the probability plot.\n",
    "\n"
   ]
  },
  {
   "cell_type": "code",
   "execution_count": 1,
   "id": "90e93155-a0dd-4da2-996a-53ff61e2b81e",
   "metadata": {},
   "outputs": [],
   "source": [
    "x_avg = integrate(psi_star * x * psi, (x, -oo, oo))\n",
    "x_avg"
   ]
  },
  {
   "cell_type": "markdown",
   "id": "20025bf9-2efe-4228-9d24-f7402d6fd9d7",
   "metadata": {},
   "source": [
    "## Calculate uncertainty (standard deviation and variance) in an expectation value\n",
    "\n"
   ]
  },
  {
   "cell_type": "markdown",
   "id": "a684602f-1bf4-4e2f-9297-1a4d8ab5532b",
   "metadata": {},
   "source": [
    "Variance in a quantity can be calculated as the expectation value for\n",
    "the quantity squared minus the (expectation value for the quantity)\n",
    "squared. In the case of position\n",
    "\n",
    "$$\\sigma^2 = \\int \\psi^*\\, x^2\\, \\psi\\; dx - \\left ( \\int \\psi^*\\, x\\, \\psi \\;dx \\right )^2 $$\n",
    "\n"
   ]
  },
  {
   "cell_type": "code",
   "execution_count": 1,
   "id": "b68ea972-2880-4f85-a8dd-3e9fec681c16",
   "metadata": {},
   "outputs": [],
   "source": [
    "sigma_squared = integrate(psi_star * x**2 * psi, (x,-oo,oo)) - (integrate(psi_star*x*psi, (x,-oo,oo)))**2"
   ]
  },
  {
   "cell_type": "code",
   "execution_count": 1,
   "id": "93ed1c74-8bcb-44a6-87e0-60b448c29ce5",
   "metadata": {},
   "outputs": [],
   "source": [
    "sqrt(sigma_squared).evalf()"
   ]
  },
  {
   "cell_type": "markdown",
   "id": "7a7b6eb4-defb-441f-9d9e-9cbf786a0bfe",
   "metadata": {},
   "source": [
    "## Is a wavefunction an eigenfunction of an operator?\n",
    "\n"
   ]
  },
  {
   "cell_type": "markdown",
   "id": "f26969b7-7aa2-4266-90f2-f44199a29295",
   "metadata": {},
   "source": [
    "Eigenfunctions of an operator have the property\n",
    "\n",
    "$$ \\hat{A}f = a f$$\n",
    "\n",
    "where $a$ is the eigenvalue.\n",
    "\n",
    "See if the function $\\psi(x)=\\exp(-a_0 x^2/2)$ is an eigenfunction of\n",
    "the kinetic energy operator\n",
    "$$\\hat{T} = \\frac{\\hbar^2}{2m} \\frac{d^2 \\psi(x)}{dx^2} $$\n",
    "\n"
   ]
  },
  {
   "cell_type": "code",
   "execution_count": 1,
   "id": "5626a9f6-aab2-4ad9-ba62-f81e270b0518",
   "metadata": {},
   "outputs": [],
   "source": [
    "# this could be done as an expression or a function\n",
    "def T_hat(f):\n",
    "    \"Apply the kinetic energy operator T on function f(x)\"\n",
    "    hbar, m = symbols('hbar m')\n",
    "    return hbar**2 /(2*m) * diff(f, x, 2)"
   ]
  },
  {
   "cell_type": "code",
   "execution_count": 1,
   "id": "a1bd417b-b78a-449b-ab03-7c0547c3fd33",
   "metadata": {},
   "outputs": [],
   "source": [
    "psi = N0 * exp(-a*x**2/2)"
   ]
  },
  {
   "cell_type": "code",
   "execution_count": 1,
   "id": "24bab7c6-05b8-4c2c-a38a-e852a13d7ef2",
   "metadata": {},
   "outputs": [],
   "source": [
    "T_hat(psi)"
   ]
  },
  {
   "cell_type": "markdown",
   "id": "05458ea0-d549-44ff-af28-c9c2149422f6",
   "metadata": {},
   "source": [
    "`T_hat()` returned the result of operating on $\\psi$. If $\\psi$ is an\n",
    "eigenfunction, we should be able to factor this result into $a\\psi$\n",
    "where $a$ is the eigenvalue. Another approach would be to divide both\n",
    "sides by the function and see if the result is a constant.\n",
    "$$\\frac{\\hat{A}f}{f} = a$$\n",
    "\n"
   ]
  },
  {
   "cell_type": "code",
   "execution_count": 1,
   "id": "13684f58-8ec1-4cd7-88c2-da10b015d953",
   "metadata": {},
   "outputs": [],
   "source": [
    "T_hat(psi)/psi"
   ]
  },
  {
   "cell_type": "markdown",
   "id": "2fa185b2-831d-47fa-8134-aa9f096b0644",
   "metadata": {},
   "source": [
    "Because this result contains $x^2$, it is not a constant. Therefore,\n",
    "$\\psi$ is not an eigenfunction of the kinetic energy operator $\\hat{T}$.\n",
    "\n",
    "How about $\\cos(x)$?\n",
    "\n"
   ]
  },
  {
   "cell_type": "code",
   "execution_count": 1,
   "id": "af7ea8cd-b18b-42cf-8dfa-dab7d0f9e7ac",
   "metadata": {},
   "outputs": [],
   "source": [
    "T_hat(cos(x))"
   ]
  },
  {
   "cell_type": "markdown",
   "id": "08586632-98cb-4ebc-99e1-37d1487d3d8d",
   "metadata": {},
   "source": [
    "So, $\\cos(x)$ is indeed an eigenfunction of $\\hat{T}$ and the eigenvalue\n",
    "is $-\\hbar^2/2m$. However, $\\cos(x)$ is not a valid wavefunction for the\n",
    "particle-in-a-box model. Why not?\n",
    "\n"
   ]
  },
  {
   "cell_type": "markdown",
   "id": "94255c13-9b92-47b8-88b1-7d1df85d543e",
   "metadata": {},
   "source": [
    "## Are two functions orthogonal?\n",
    "\n"
   ]
  },
  {
   "cell_type": "markdown",
   "id": "82d185bd-6db6-4190-bbe0-87752201f7bd",
   "metadata": {},
   "source": [
    "The functions\n",
    "$$\\phi_n(\\theta) = e^{in\\theta} $$\n",
    "where $n$ is an integer and $0 \\le \\theta \\le 2\\pi$ are orthogonal if\n",
    "\n",
    "$$\\int_0^{2\\pi} \\phi_n^*(\\theta) \\phi_m^*(\\theta)\\; d\\theta = 0 $$ for\n",
    "$m\\ne n$.\n",
    "\n"
   ]
  },
  {
   "cell_type": "code",
   "execution_count": 1,
   "id": "4f21a57c-39d2-48a4-bc52-6533186be2ea",
   "metadata": {},
   "outputs": [],
   "source": [
    "var('theta n', real=True)\n",
    "def phi(n): \n",
    "    return exp(I*n*theta)\n",
    "\n",
    "integrate(conjugate(phi(1)) * phi(0), (theta, 0, 2*pi))"
   ]
  },
  {
   "cell_type": "markdown",
   "id": "64a0c0f3-f72e-4814-b64d-414f35b9c195",
   "metadata": {},
   "source": [
    "$\\phi_1$ and $\\phi_2$ are orgthogonal.\n",
    "\n"
   ]
  },
  {
   "cell_type": "markdown",
   "id": "7a003e61-e0e1-4c49-a5c5-dbe5a8c0de01",
   "metadata": {},
   "source": [
    "#### Python interlude: range() and loops\n",
    "\n"
   ]
  },
  {
   "cell_type": "markdown",
   "id": "cb574fb7-d68b-4aed-b315-97b4ce45c306",
   "metadata": {},
   "source": [
    "Using loops can make quick work of iterating over many combinations.\n",
    "(NB: This is a silly example, as it only shows a pattern for a few\n",
    "specific cases; orthogonality is not proven in general)\n",
    "\n"
   ]
  },
  {
   "cell_type": "code",
   "execution_count": 1,
   "id": "05f49af3-e67e-449a-babd-4f0ca379320c",
   "metadata": {},
   "outputs": [],
   "source": [
    "print(\"m, n, integral\\n\", 20*\"-\")\n",
    "for n in range(0,4):\n",
    "    for m in range(0,4):\n",
    "        result = integrate(conjugate(phi(m)) * phi(n), (theta, 0, 2*pi))\n",
    "        pprint((m, n, result))"
   ]
  },
  {
   "cell_type": "markdown",
   "id": "58c4431c-702c-4689-9087-56c25961ea44",
   "metadata": {},
   "source": [
    "## Finis\n",
    "\n"
   ]
  }
 ],
 "metadata": {
  "kernelspec": {
   "display_name": "Python 3 (ipykernel)",
   "language": "python",
   "name": "python3"
  },
  "language_info": {
   "codemirror_mode": {
    "name": "ipython",
    "version": 3
   },
   "file_extension": ".py",
   "mimetype": "text/x-python",
   "name": "python",
   "nbconvert_exporter": "python",
   "pygments_lexer": "ipython3",
   "version": "3.12.12"
  },
  "org": null
 },
 "nbformat": 4,
 "nbformat_minor": 5
}
